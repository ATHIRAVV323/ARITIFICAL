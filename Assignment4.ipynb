{
  "nbformat": 4,
  "nbformat_minor": 0,
  "metadata": {
    "colab": {
      "name": "Assignment4.ipynb",
      "provenance": [],
      "collapsed_sections": []
    },
    "kernelspec": {
      "name": "python3",
      "display_name": "Python 3"
    }
  },
  "cells": [
    {
      "cell_type": "code",
      "metadata": {
        "id": "X-aJ57YfEi1z",
        "outputId": "c678a9c4-94ab-4ccd-a09f-79854415eb7d",
        "colab": {
          "base_uri": "https://localhost:8080/",
          "height": 34
        }
      },
      "source": [
        "#Q1 : create a txt file, enter multiple lines of text. read this file line by line and store it into a list. Apply exception handling technique\n",
        "\n",
        "%%writefile file.txt\n",
        "In operating systems such as CP/M and MS-DOS, where the operating system does not keep track of the file size in bytes, the end of a text file is denoted by placing one or more special characters, known as an end-of-file marker, as padding after the last line in a text file. On modern operating systems such as Microsoft Windows and Unix-like systems, text files do not contain any special EOF character, because file systems on those operating systems keep track of the file size in bytes."
      ],
      "execution_count": 15,
      "outputs": [
        {
          "output_type": "stream",
          "text": [
            "Overwriting file.txt\n"
          ],
          "name": "stdout"
        }
      ]
    },
    {
      "cell_type": "code",
      "metadata": {
        "id": "TZl1_yH_IQgg",
        "outputId": "99cd85a4-8ecf-47fe-91d1-a7ea01cd0e49",
        "colab": {
          "base_uri": "https://localhost:8080/",
          "height": 71
        }
      },
      "source": [
        "try:\n",
        "  myfile=open(\"file.txt\",\"r\") \n",
        "  myfile.seek(0)\n",
        "  lines=myfile.readlines()\n",
        "  lst=[line for line in lines]\n",
        "  for i in lst:\n",
        "    print(i)\n",
        "except:\n",
        "    print(\"Couldn't Open File...!\")\n",
        "else:\n",
        "    print(\".\"*50,\"Task completed\",\".\"*50)"
      ],
      "execution_count": 19,
      "outputs": [
        {
          "output_type": "stream",
          "text": [
            "In operating systems such as CP/M and MS-DOS, where the operating system does not keep track of the file size in bytes, the end of a text file is denoted by placing one or more special characters, known as an end-of-file marker, as padding after the last line in a text file. On modern operating systems such as Microsoft Windows and Unix-like systems, text files do not contain any special EOF character, because file systems on those operating systems keep track of the file size in bytes.\n",
            ".................................................. Task completed ..................................................\n"
          ],
          "name": "stdout"
        }
      ]
    },
    {
      "cell_type": "code",
      "metadata": {
        "id": "jXSGITwKKypW",
        "outputId": "f818e7f6-6587-47f9-9ea1-8a2144e7056e",
        "colab": {
          "base_uri": "https://localhost:8080/",
          "height": 136
        }
      },
      "source": [
        "# Q2: Write a Python program to write below list content to a file. Apply exception handling technique color = ['Red', 'Green', 'White', 'Black', 'Pink', 'Yellow']\n",
        "\n",
        "color = ['Red', 'Green', 'White', 'Black', 'Pink', 'Yellow']\n",
        "try:\n",
        "  f=open('listfile.txt', 'w+')\n",
        "  for i in color:\n",
        "    f.write(i)\n",
        "    f.write(\"\\n\")\n",
        "except:\n",
        "  print(\"Couldn't write to the file....!\")\n",
        "f.seek(0)\n",
        "print(f.read())"
      ],
      "execution_count": 21,
      "outputs": [
        {
          "output_type": "stream",
          "text": [
            "Red\n",
            "Green\n",
            "White\n",
            "Black\n",
            "Pink\n",
            "Yellow\n",
            "\n"
          ],
          "name": "stdout"
        }
      ]
    },
    {
      "cell_type": "code",
      "metadata": {
        "id": "QiWIThwSLJl5",
        "outputId": "c63be0a4-1985-4c61-fdc5-c4a571ff8f69",
        "colab": {
          "base_uri": "https://localhost:8080/",
          "height": 34
        }
      },
      "source": [
        "# Q3 : create a txt file, enter multiple lines of text. remove newline characters from created file and print as a list. Apply exception handling techniques wherever possible\n",
        "\n",
        "\n",
        "%%writefile text_file.txt \n",
        "Information denotes the organised data about someone or something  obtained from various sources such as newspaper, internet, television,  discussions, etc. Knowledge refers to the awareness or understanding on  the subject acquired from education or experience of a person"
      ],
      "execution_count": 23,
      "outputs": [
        {
          "output_type": "stream",
          "text": [
            "Overwriting text_file.txt\n"
          ],
          "name": "stdout"
        }
      ]
    },
    {
      "cell_type": "code",
      "metadata": {
        "id": "rrQXVu3iMAgR",
        "outputId": "b08b6a4e-627b-4cca-9109-27fb8b9148e6",
        "colab": {
          "base_uri": "https://localhost:8080/",
          "height": 54
        }
      },
      "source": [
        "try:\n",
        "  fo=open(\"text_file.txt\")\n",
        "  list1=[]\n",
        "  for i in fo:\n",
        "    list1.append(i.strip(\"\\n\")) \n",
        "  print(list1)\n",
        "except:\n",
        "  print(\"Error..........\")"
      ],
      "execution_count": 25,
      "outputs": [
        {
          "output_type": "stream",
          "text": [
            "['Information denotes the organised data about someone or something  obtained from various sources such as newspaper, internet, television,  discussions, etc. Knowledge refers to the awareness or understanding on  the subject acquired from education or experience of a person']\n"
          ],
          "name": "stdout"
        }
      ]
    },
    {
      "cell_type": "code",
      "metadata": {
        "id": "EHOyHfKEMOPI",
        "outputId": "00f72b84-e154-4340-854d-ad0e6b939598",
        "colab": {
          "base_uri": "https://localhost:8080/",
          "height": 54
        }
      },
      "source": [
        "# Q4 : create a testfile1.txt file, enter multiple lines of text . Now copy contents of testfile1.txt to new file testfile22.txt. Apply exception handling techniques wherever possible\n",
        "\n",
        "try:\n",
        "  f1 = open(\"testfile1.txt\", \"w+\")\n",
        "  f1.write(\"Lorem Ipsum is simply dummy text of the printing and typesetting industry.Lorem Ipsum has been the industry's standard dummy text ever since the 1500s, when an unknown printer took a galley of type and scrambled it to make a type specimen book.It has survived not only five centuries, but also the leap into electronic typesetting, remaining essentially unchanged.\")\n",
        "  \n",
        "except:\n",
        "  print(\"Something Wrong....\")\n",
        "else:\n",
        "  f1.seek(0)\n",
        "  mystr=f1.read()\n",
        "  try:\n",
        "    f2=open(\"testfile22.txt\",\"w+\")\n",
        "    f2.write(mystr) \n",
        "    f2.seek(0)\n",
        "    print(f2.read())\n",
        "  except:\n",
        "    print(\"couldn't write to the file...\")"
      ],
      "execution_count": 26,
      "outputs": [
        {
          "output_type": "stream",
          "text": [
            "Lorem Ipsum is simply dummy text of the printing and typesetting industry.Lorem Ipsum has been the industry's standard dummy text ever since the 1500s, when an unknown printer took a galley of type and scrambled it to make a type specimen book.It has survived not only five centuries, but also the leap into electronic typesetting, remaining essentially unchanged.\n"
          ],
          "name": "stdout"
        }
      ]
    }
  ]
}
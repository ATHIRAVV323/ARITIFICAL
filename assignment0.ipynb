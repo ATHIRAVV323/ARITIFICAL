{
  "nbformat": 4,
  "nbformat_minor": 0,
  "metadata": {
    "colab": {
      "name": "assignment0.ipynb",
      "provenance": [],
      "collapsed_sections": []
    },
    "kernelspec": {
      "name": "python3",
      "display_name": "Python 3"
    }
  },
  "cells": [
    {
      "cell_type": "code",
      "metadata": {
        "id": "j0ebzUAoA53D",
        "colab_type": "code",
        "colab": {
          "base_uri": "https://localhost:8080/",
          "height": 68
        },
        "outputId": "4475a796-2c6a-47ec-aa31-96aec71c67fa"
      },
      "source": [
        "#1.Input a string of odd length (minimum 9 characters), print a string made of the 3\n",
        "#middle characters from input string.\n",
        "mystr=input(\"enter a string:\")\n",
        "print(mystr)\n",
        "x=len(mystr)\n",
        "if x<9 or x%2==0:\n",
        "    print(\"please enter string of odd length with min 9 charcters!\")\n",
        "else:\n",
        "    i=(x//2)-1\n",
        "    j=i+3\n",
        "    print(mystr[i:j])"
      ],
      "execution_count": 1,
      "outputs": [
        {
          "output_type": "stream",
          "text": [
            "enter a string:abcdefghi\n",
            "abcdefghi\n",
            "def\n"
          ],
          "name": "stdout"
        }
      ]
    },
    {
      "cell_type": "code",
      "metadata": {
        "id": "xXUT6eKGBBXH",
        "colab_type": "code",
        "colab": {
          "base_uri": "https://localhost:8080/",
          "height": 85
        },
        "outputId": "5b300c87-3f04-42a5-9e77-85dd757afea8"
      },
      "source": [
        "#2 Calculate the sum and average of first n natural numbersa. using for loop b. using while loop\n",
        "#using for loop\n",
        "n=int(input(\"enter a number:\"))\n",
        "print(n)\n",
        "sum=0\n",
        "for num in range(0,n+1,1):\n",
        "    sum = n * (n+1) / 2\n",
        "    average  = ( n * (n+1) / 2) / n\n",
        "print(\"SUM of first \", n, \"numbers is: \", sum )\n",
        "print(\"Average of first \", n, \"natural number is: \", average)\n",
        "\n"
      ],
      "execution_count": 18,
      "outputs": [
        {
          "output_type": "stream",
          "text": [
            "enter a number:5\n",
            "5\n",
            "SUM of first  5 numbers is:  15.0\n",
            "Average of first  5 natural number is:  3.0\n"
          ],
          "name": "stdout"
        }
      ]
    },
    {
      "cell_type": "code",
      "metadata": {
        "id": "iaosXgQ2Ijvw",
        "colab_type": "code",
        "colab": {
          "base_uri": "https://localhost:8080/",
          "height": 68
        },
        "outputId": "f69d407a-f246-41f4-da2e-0ebe59078292"
      },
      "source": [
        "#using while loop\n",
        "number = int(input(\"enter any number: \"))\n",
        "\n",
        "total = 0\n",
        "value = 1\n",
        "\n",
        "while (value <= number):\n",
        "    total = total + value\n",
        "    value = value + 1\n",
        "\n",
        "average = total / number\n",
        "\n",
        "print(\"The Sum of Natural Numbers from 1 to {0} =  {1}\".format(number, total))\n",
        "print(\"Average of Natural Numbers from 1 to {0} =  {1}\".format(number, average))"
      ],
      "execution_count": 17,
      "outputs": [
        {
          "output_type": "stream",
          "text": [
            "enter any number: 5\n",
            "The Sum of Natural Numbers from 1 to 5 =  15\n",
            "Average of Natural Numbers from 1 to 5 =  3.0\n"
          ],
          "name": "stdout"
        }
      ]
    },
    {
      "cell_type": "code",
      "metadata": {
        "id": "EInbsuvvJmlC",
        "colab_type": "code",
        "colab": {
          "base_uri": "https://localhost:8080/",
          "height": 204
        },
        "outputId": "036ce697-5ef6-4a4d-fb18-f8af8410099b"
      },
      "source": [
        "#3  Accept list of 5 float numbers as input from user using loop and store values in a list\n",
        "list1=[]\n",
        "print(\"enter 5 float number:\")\n",
        "for i in range(5):\n",
        "    val=float(input())\n",
        "    list1.append(val)\n",
        "    print(list1)"
      ],
      "execution_count": 7,
      "outputs": [
        {
          "output_type": "stream",
          "text": [
            "enter 5 float number:\n",
            "2.0\n",
            "[2.0]\n",
            "2.1\n",
            "[2.0, 2.1]\n",
            "2.2\n",
            "[2.0, 2.1, 2.2]\n",
            "2.6\n",
            "[2.0, 2.1, 2.2, 2.6]\n",
            "2.6\n",
            "[2.0, 2.1, 2.2, 2.6, 2.6]\n"
          ],
          "name": "stdout"
        }
      ]
    },
    {
      "cell_type": "code",
      "metadata": {
        "id": "dzORd_3zKIyv",
        "colab_type": "code",
        "colab": {
          "base_uri": "https://localhost:8080/",
          "height": 187
        },
        "outputId": "5ef46c89-9571-4cc5-e6a0-19529de9c1c2"
      },
      "source": [
        "#4 Print  pattern\n",
        "#a pattern\n",
        "rows = 5\n",
        "for row in range(1, rows+1):\n",
        "    for column in range(1, row + 1):\n",
        "        print(column, end=' ')\n",
        "    print(\"\")\n",
        "\n",
        "#b pattern\n",
        "rows = 5\n",
        "for row in range(rows, 0,-1):\n",
        "    for column in range(row,0,-1):\n",
        "        print(column, end=' ')\n",
        "    print(\"\")"
      ],
      "execution_count": 9,
      "outputs": [
        {
          "output_type": "stream",
          "text": [
            "1 \n",
            "1 2 \n",
            "1 2 3 \n",
            "1 2 3 4 \n",
            "1 2 3 4 5 \n",
            "5 4 3 2 1 \n",
            "4 3 2 1 \n",
            "3 2 1 \n",
            "2 1 \n",
            "1 \n"
          ],
          "name": "stdout"
        }
      ]
    },
    {
      "cell_type": "code",
      "metadata": {
        "id": "kxgtXkK5KWzX",
        "colab_type": "code",
        "colab": {
          "base_uri": "https://localhost:8080/",
          "height": 51
        },
        "outputId": "8ac08f0c-6d03-42d8-e981-c3a63be72622"
      },
      "source": [
        "#5 input a number, count and print the total number of digits in that number using while loop\n",
        "num=int(input(\"enter a number:\"))\n",
        "count=0\n",
        "while num!=0:\n",
        "  num=num//10\n",
        "  count=count+1\n",
        "print(\"Total Number of Digits = \",count)"
      ],
      "execution_count": 10,
      "outputs": [
        {
          "output_type": "stream",
          "text": [
            "enter a number:123\n",
            "Total Number of Digits =  3\n"
          ],
          "name": "stdout"
        }
      ]
    },
    {
      "cell_type": "code",
      "metadata": {
        "id": "HU0MWAT7KoYl",
        "colab_type": "code",
        "colab": {
          "base_uri": "https://localhost:8080/",
          "height": 34
        },
        "outputId": "b3027f4b-31e4-47ac-bcb4-3b2b7affd7f3"
      },
      "source": [
        "#6 Given two lists. Create a third list by picking an odd-index element from the first list and even index elements from second.\n",
        "listOne = [3, 6, 9, 12, 15, 18, 21]\n",
        "listTwo = [4, 8, 12, 16, 20, 24, 28]\n",
        "listThree=[]\n",
        "for i in range(1,len(listTwo)+1):\n",
        "  if i%2==0:\n",
        "    listThree.append(listTwo[i-1])\n",
        "  else:\n",
        "    listThree.append(listOne[i-1])\n",
        "print(listThree)\n",
        "    "
      ],
      "execution_count": 13,
      "outputs": [
        {
          "output_type": "stream",
          "text": [
            "[3, 8, 9, 16, 15, 24, 21]\n"
          ],
          "name": "stdout"
        }
      ]
    },
    {
      "cell_type": "code",
      "metadata": {
        "id": "H5k_jwHKLHEB",
        "colab_type": "code",
        "colab": {
          "base_uri": "https://localhost:8080/",
          "height": 34
        },
        "outputId": "bca7fcb4-8512-46e7-fb86-434276e98c4e"
      },
      "source": [
        "#7. program to get the smallest number from a list.\n",
        "l= [2,3,6,9,1,0]\n",
        "r=l[0]\n",
        "for i in range(0,len(l)):\n",
        "  if r>l[i]:\n",
        "    r=l[i]\n",
        "print(\"The smallest number is:\",r)\n"
      ],
      "execution_count": 14,
      "outputs": [
        {
          "output_type": "stream",
          "text": [
            "The smallest number is: 0\n"
          ],
          "name": "stdout"
        }
      ]
    },
    {
      "cell_type": "code",
      "metadata": {
        "id": "iMsMLUouN2FX",
        "colab_type": "code",
        "colab": {
          "base_uri": "https://localhost:8080/",
          "height": 34
        },
        "outputId": "453f122a-4dbe-4e5f-e064-c51126f1eaa0"
      },
      "source": [
        "#8.Reverse the following list using for loop and range [ do not use reverse or reversed like functions] lst1 = [10, 20, 30, 4, 50]\n",
        "lst1 = [10, 20, 30, 4, 50]\n",
        "re=[]\n",
        "for i in range(len(lst1)-1,-1,-1):\n",
        "  re.append(lst1[i])\n",
        "print(\"Reversed list is:\",re)"
      ],
      "execution_count": 16,
      "outputs": [
        {
          "output_type": "stream",
          "text": [
            "Reversed list is: [50, 4, 30, 20, 10]\n"
          ],
          "name": "stdout"
        }
      ]
    }
  ]
}
{
  "nbformat": 4,
  "nbformat_minor": 0,
  "metadata": {
    "colab": {
      "name": "Assignment3.ipynb",
      "provenance": []
    },
    "kernelspec": {
      "name": "python3",
      "display_name": "Python 3"
    }
  },
  "cells": [
    {
      "cell_type": "code",
      "metadata": {
        "id": "V764-v6QGB8o",
        "outputId": "8116740f-f620-4a8d-96ac-d7338a570c33",
        "colab": {
          "base_uri": "https://localhost:8080/",
          "height": 85
        }
      },
      "source": [
        "#Q1: Write a function calculation() such that it can accept two variables as arguments and calculate the addition and subtraction of it. And also it must return both addition and\n",
        "#subtraction in a single return call\n",
        "def calculation(num1,num2):\n",
        "  add=num1+num2\n",
        "  sub=num1-num2\n",
        "  return add,sub\n",
        "\n",
        "num1=int(input(\"Enter the First Number: \"))\n",
        "num2=int(input(\"Enter the Second Number: \"))\n",
        "addition,subtraction=calculation(num1,num2)\n",
        "\n",
        "print(f'Addition ------ {num1} + {num2} = {addition}')\n",
        "print(f'Subtraction --- {num1} - {num2} = {subtraction}')"
      ],
      "execution_count": 1,
      "outputs": [
        {
          "output_type": "stream",
          "text": [
            "Enter the First Number: 23\n",
            "Enter the Second Number: 32\n",
            "Addition ------ 23 + 32 = 55\n",
            "Subtraction --- 23 - 32 = -9\n"
          ],
          "name": "stdout"
        }
      ]
    },
    {
      "cell_type": "code",
      "metadata": {
        "id": "vHhMFcw8IBKn",
        "outputId": "802eb88b-6f40-4410-9c85-12a5847a6e6c",
        "colab": {
          "base_uri": "https://localhost:8080/",
          "height": 119
        }
      },
      "source": [
        "#Q2 : Create a function showEmployee() in such a way that it should accept employee name, and it’s salary and display both,and if the salary is missing in function call it should show it as\n",
        "#9000\n",
        "def showEmployee(empName,salary=9000):\n",
        "  print(\"Employee Name is : \",empName)\n",
        "  print(f'Salary of {empName} is {salary}')\n",
        "  print(\"\")\n",
        "\n",
        "showEmployee(\"Rahul\",58000) \n",
        "showEmployee(\"Arjun\")"
      ],
      "execution_count": 2,
      "outputs": [
        {
          "output_type": "stream",
          "text": [
            "Employee Name is :  Rahul\n",
            "Salary of Rahul is 58000\n",
            "\n",
            "Employee Name is :  Arjun\n",
            "Salary of Arjun is 9000\n",
            "\n"
          ],
          "name": "stdout"
        }
      ]
    },
    {
      "cell_type": "code",
      "metadata": {
        "id": "-e73dOyzIjEX",
        "outputId": "c3f5431d-f39a-4d1c-9bfa-ca6c5af36d0b",
        "colab": {
          "base_uri": "https://localhost:8080/",
          "height": 34
        }
      },
      "source": [
        "#Q3 : Write a function called multipleLetterCount. This function takes in one parameter (a string) and returns a dictionary with the\n",
        "#keys being the letters and the value being the count of the letter.\n",
        "# Example output:\n",
        "# multipleLetterCount('awesome')\n",
        "\n",
        "def multipleLetterCount(mystr):\n",
        "  dict1={}\n",
        "  for ele in mystr:\n",
        "    keys=dict1.keys()\n",
        "    if ele in keys:\n",
        "      dict1[ele]=dict1[ele]+1\n",
        "    else:\n",
        "      dict1[ele]=1\n",
        "  return dict1\n",
        "\n",
        "res=multipleLetterCount('awesome')\n",
        "print(dict(res))"
      ],
      "execution_count": 3,
      "outputs": [
        {
          "output_type": "stream",
          "text": [
            "{'a': 1, 'w': 1, 'e': 2, 's': 1, 'o': 1, 'm': 1}\n"
          ],
          "name": "stdout"
        }
      ]
    }
  ]
}
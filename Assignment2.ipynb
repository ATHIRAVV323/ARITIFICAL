{
  "nbformat": 4,
  "nbformat_minor": 0,
  "metadata": {
    "colab": {
      "name": "Assignment2.ipynb",
      "provenance": [],
      "collapsed_sections": []
    },
    "kernelspec": {
      "name": "python3",
      "display_name": "Python 3"
    }
  },
  "cells": [
    {
      "cell_type": "code",
      "metadata": {
        "id": "ljQfnE6KRJ4C",
        "outputId": "546f4d07-9dcd-47c0-b872-28935723c8bb",
        "colab": {
          "base_uri": "https://localhost:8080/",
          "height": 34
        }
      },
      "source": [
        "#1: Modify the first item (22) of a list inside a following tuple to 222 ?\n",
        "#tuple1 = (11, [22, 33], 44, 55)\n",
        "\n",
        "tuple1 = (11, [22, 33], 44, 55)\n",
        "list1=list(tuple1) \n",
        "list1[1][0]=222\n",
        "print(\"The modified tuple is:\",tuple1)"
      ],
      "execution_count": null,
      "outputs": [
        {
          "output_type": "stream",
          "text": [
            "The modified tuple is: (11, [222, 33], 44, 55)\n"
          ],
          "name": "stdout"
        }
      ]
    },
    {
      "cell_type": "code",
      "metadata": {
        "id": "u8kcWCT0VsG6",
        "outputId": "a83ab725-8ca0-457e-9a39-1fb9f7503b83",
        "colab": {
          "base_uri": "https://localhost:8080/",
          "height": 34
        }
      },
      "source": [
        "#Q 2: Count the number of occurrences of item 50 from a tuple\n",
        "tuple1 = (50, 10, 60, 70, 50)\n",
        "count=0\n",
        "for i in tuple1:\n",
        "  if i==50:\n",
        "    count=count+1\n",
        "print(\"The number of occurrences of item 50 in the given tuple is:\",count)"
      ],
      "execution_count": null,
      "outputs": [
        {
          "output_type": "stream",
          "text": [
            "The number of occurrences of item 50 in the given tuple is: 2\n"
          ],
          "name": "stdout"
        }
      ]
    },
    {
      "cell_type": "code",
      "metadata": {
        "id": "ycVqfwuXYsT8",
        "outputId": "3a60e91e-8920-46f5-8d66-705af28bb571",
        "colab": {
          "base_uri": "https://localhost:8080/",
          "height": 136
        }
      },
      "source": [
        "#Q 3: Write a Python program to convert a list to a tuple\n",
        "\n",
        "def convertion(lst):\n",
        "  tple=tuple(lst) \n",
        "  return tple\n",
        "\n",
        "lst=[]\n",
        "n=int(input(\"Enter the number of elements: \"))\n",
        "for i in range(0,n):\n",
        "  element=input()\n",
        "  lst.append(element)\n",
        "res=convertion(lst)\n",
        "print(\"Result of  Tuple after conversion\",res)"
      ],
      "execution_count": null,
      "outputs": [
        {
          "output_type": "stream",
          "text": [
            "Enter the number of elements: 5\n",
            "23\n",
            "43\n",
            "12\n",
            "23\n",
            "45\n",
            "Result of  Tuple after conversion ('23', '43', '12', '23', '45')\n"
          ],
          "name": "stdout"
        }
      ]
    },
    {
      "cell_type": "code",
      "metadata": {
        "id": "-Tooee7FW-aT",
        "outputId": "257b14c0-0233-4087-9180-44e5542e1dde",
        "colab": {
          "base_uri": "https://localhost:8080/",
          "height": 34
        }
      },
      "source": [
        "# Q 4: Returns a new set with all items from both sets by removing duplicates\n",
        "\n",
        "def set_operation(set1,set2):\n",
        "  set3=set1.union(set2) \n",
        "  return set3\n",
        "\n",
        "\n",
        "set1={1,'a','b',2,4,6}\n",
        "set2={1,2,3,4,5,6,'a','b'}\n",
        "result=set_operation(set1,set2)\n",
        "print(result)\n"
      ],
      "execution_count": 6,
      "outputs": [
        {
          "output_type": "stream",
          "text": [
            "{1, 2, 3, 4, 5, 6, 'b', 'a'}\n"
          ],
          "name": "stdout"
        }
      ]
    },
    {
      "cell_type": "code",
      "metadata": {
        "id": "6_IUbLWMDkiS",
        "outputId": "8cad65e3-21e4-4d12-eac7-fc94159ee98d",
        "colab": {
          "base_uri": "https://localhost:8080/",
          "height": 34
        }
      },
      "source": [
        "#Q5: Merge following two Python dictionaries into one\n",
        "dict1 = {'Ten': 10, 'Twenty': 20, 'Thirty': 30}\n",
        "dict2 = {'Thirty': 30, 'Fourty': 40, 'Fifty': 50}\n",
        "dict1.update(dict2)\n",
        "print(dict1)"
      ],
      "execution_count": 8,
      "outputs": [
        {
          "output_type": "stream",
          "text": [
            "{'Ten': 10, 'Twenty': 20, 'Thirty': 30, 'Fourty': 40, 'Fifty': 50}\n"
          ],
          "name": "stdout"
        }
      ]
    },
    {
      "cell_type": "code",
      "metadata": {
        "id": "RSYHCKfqEAv1",
        "outputId": "35696629-ed14-4dd0-ab3a-612f2aab9513",
        "colab": {
          "base_uri": "https://localhost:8080/",
          "height": 34
        }
      },
      "source": [
        "#Q6: Given a Python dictionary, Change Brad’s salary to 8500 \n",
        "sampleDict = {\n",
        "'emp1': {'name': 'Jhon', 'salary': 7500},\n",
        "'emp2': {'name': 'Emma', 'salary': 8000},\n",
        "'emp3': {'name': 'Brad', 'salary': 6500}\n",
        "}\n",
        "\n",
        "sampleDict['emp3']['salary']=8500 #  \n",
        "print(sampleDict)\n"
      ],
      "execution_count": 10,
      "outputs": [
        {
          "output_type": "stream",
          "text": [
            "{'emp1': {'name': 'Jhon', 'salary': 7500}, 'emp2': {'name': 'Emma', 'salary': 8000}, 'emp3': {'name': 'Brad', 'salary': 8500}}\n"
          ],
          "name": "stdout"
        }
      ]
    },
    {
      "cell_type": "code",
      "metadata": {
        "id": "kqw95MfcEsEU",
        "outputId": "43aede28-0dc1-4d55-edb9-2b88d576721d",
        "colab": {
          "base_uri": "https://localhost:8080/",
          "height": 34
        }
      },
      "source": [
        "#Q7: Rename key city to location in the following dictionary\n",
        "\n",
        "sampleDict = {\n",
        "\"name\": \"Kelly\",\n",
        "\"age\":25,\n",
        "\"salary\": 8000,\n",
        "\"city\": \"New york\"\n",
        "}\n",
        "sampleDict[\"location\"]=sampleDict.pop(\"city\") \n",
        "print(sampleDict)"
      ],
      "execution_count": 12,
      "outputs": [
        {
          "output_type": "stream",
          "text": [
            "{'name': 'Kelly', 'age': 25, 'salary': 8000, 'location': 'New york'}\n"
          ],
          "name": "stdout"
        }
      ]
    }
  ]
}